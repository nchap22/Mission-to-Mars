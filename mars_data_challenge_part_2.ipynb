{
 "cells": [
  {
   "cell_type": "code",
   "execution_count": 1,
   "id": "e03de925",
   "metadata": {},
   "outputs": [],
   "source": [
    "from splinter import Browser\n",
    "from bs4 import BeautifulSoup as soup\n",
    "from webdriver_manager.chrome import ChromeDriverManager\n",
    "from selenium import webdriver\n",
    "from selenium.webdriver.chrome.service import Service\n",
    "import pandas as pd\n",
    "from webdriver_manager.chrome import ChromeDriverManager\n",
    "\n"
   ]
  },
  {
   "cell_type": "code",
   "execution_count": 2,
   "id": "efa41072",
   "metadata": {},
   "outputs": [],
   "source": [
    "executable_path = {'executable_path': ChromeDriverManager().install()}\n",
    "browser = Browser('chrome', **executable_path, headless=False)"
   ]
  },
  {
   "cell_type": "code",
   "execution_count": 3,
   "id": "d681923d",
   "metadata": {},
   "outputs": [],
   "source": [
    "# Visit the mars nasa news site\n",
    "url = 'https://data-class-mars-challenge.s3.amazonaws.com/Mars/index.html'\n",
    "browser.visit(url)\n",
    "html = browser.html\n",
    "quote_soup = soup(html, 'html.parser')"
   ]
  },
  {
   "cell_type": "code",
   "execution_count": 4,
   "id": "3443c676",
   "metadata": {},
   "outputs": [],
   "source": [
    "# Parse the HTML\n",
    "html = browser.html\n",
    "html_soup = soup(html, 'html.parser')"
   ]
  },
  {
   "cell_type": "code",
   "execution_count": 64,
   "id": "e6ff5969",
   "metadata": {},
   "outputs": [
    {
     "data": {
      "text/plain": [
       "id                          object\n",
       "terrestrial_date    datetime64[ns]\n",
       "sol                          int64\n",
       "ls                           int64\n",
       "month                        int64\n",
       "min_temp                   float64\n",
       "pressure                   float64\n",
       "dtype: object"
      ]
     },
     "execution_count": 64,
     "metadata": {},
     "output_type": "execute_result"
    }
   ],
   "source": [
    "df = pd.read_html('https://data-class-mars-challenge.s3.amazonaws.com/Mars/index.html')\n",
    "# Select the first table\n",
    "mars_df = df[0]\n",
    "mars_df.columns = ['id', 'terrestrial_date', 'sol', 'ls', 'month', 'min_temp', 'pressure']\n",
    "mars_df.id = mars_df.id.astype('object')\n",
    "mars_df.terrestrial_date = mars_df.id.astype('datetime64')\n",
    "mars_df.dtypes"
   ]
  },
  {
   "cell_type": "code",
   "execution_count": 37,
   "id": "e1ce23cb",
   "metadata": {},
   "outputs": [
    {
     "data": {
      "text/html": [
       "<div>\n",
       "<style scoped>\n",
       "    .dataframe tbody tr th:only-of-type {\n",
       "        vertical-align: middle;\n",
       "    }\n",
       "\n",
       "    .dataframe tbody tr th {\n",
       "        vertical-align: top;\n",
       "    }\n",
       "\n",
       "    .dataframe thead th {\n",
       "        text-align: right;\n",
       "    }\n",
       "</style>\n",
       "<table border=\"1\" class=\"dataframe\">\n",
       "  <thead>\n",
       "    <tr style=\"text-align: right;\">\n",
       "      <th></th>\n",
       "      <th>id</th>\n",
       "      <th>terrestrial_date</th>\n",
       "      <th>sol</th>\n",
       "      <th>ls</th>\n",
       "      <th>month</th>\n",
       "      <th>min_temp</th>\n",
       "      <th>pressure</th>\n",
       "    </tr>\n",
       "  </thead>\n",
       "  <tbody>\n",
       "    <tr>\n",
       "      <th>2</th>\n",
       "      <td>24</td>\n",
       "      <td>2012-08-18</td>\n",
       "      <td>12</td>\n",
       "      <td>156</td>\n",
       "      <td>6</td>\n",
       "      <td>-76.0</td>\n",
       "      <td>741.0</td>\n",
       "    </tr>\n",
       "    <tr>\n",
       "      <th>3</th>\n",
       "      <td>35</td>\n",
       "      <td>2012-08-19</td>\n",
       "      <td>13</td>\n",
       "      <td>157</td>\n",
       "      <td>6</td>\n",
       "      <td>-74.0</td>\n",
       "      <td>732.0</td>\n",
       "    </tr>\n",
       "    <tr>\n",
       "      <th>4</th>\n",
       "      <td>46</td>\n",
       "      <td>2012-08-20</td>\n",
       "      <td>14</td>\n",
       "      <td>157</td>\n",
       "      <td>6</td>\n",
       "      <td>-74.0</td>\n",
       "      <td>740.0</td>\n",
       "    </tr>\n",
       "    <tr>\n",
       "      <th>5</th>\n",
       "      <td>57</td>\n",
       "      <td>2012-08-21</td>\n",
       "      <td>15</td>\n",
       "      <td>158</td>\n",
       "      <td>6</td>\n",
       "      <td>-78.0</td>\n",
       "      <td>740.0</td>\n",
       "    </tr>\n",
       "    <tr>\n",
       "      <th>6</th>\n",
       "      <td>68</td>\n",
       "      <td>2012-08-22</td>\n",
       "      <td>16</td>\n",
       "      <td>158</td>\n",
       "      <td>6</td>\n",
       "      <td>-77.0</td>\n",
       "      <td>740.0</td>\n",
       "    </tr>\n",
       "    <tr>\n",
       "      <th>...</th>\n",
       "      <td>...</td>\n",
       "      <td>...</td>\n",
       "      <td>...</td>\n",
       "      <td>...</td>\n",
       "      <td>...</td>\n",
       "      <td>...</td>\n",
       "      <td>...</td>\n",
       "    </tr>\n",
       "    <tr>\n",
       "      <th>1862</th>\n",
       "      <td>1889</td>\n",
       "      <td>2018-02-23</td>\n",
       "      <td>1973</td>\n",
       "      <td>133</td>\n",
       "      <td>5</td>\n",
       "      <td>-78.0</td>\n",
       "      <td>730.0</td>\n",
       "    </tr>\n",
       "    <tr>\n",
       "      <th>1863</th>\n",
       "      <td>1892</td>\n",
       "      <td>2018-02-24</td>\n",
       "      <td>1974</td>\n",
       "      <td>134</td>\n",
       "      <td>5</td>\n",
       "      <td>-77.0</td>\n",
       "      <td>729.0</td>\n",
       "    </tr>\n",
       "    <tr>\n",
       "      <th>1864</th>\n",
       "      <td>1894</td>\n",
       "      <td>2018-02-25</td>\n",
       "      <td>1975</td>\n",
       "      <td>134</td>\n",
       "      <td>5</td>\n",
       "      <td>-76.0</td>\n",
       "      <td>729.0</td>\n",
       "    </tr>\n",
       "    <tr>\n",
       "      <th>1865</th>\n",
       "      <td>1893</td>\n",
       "      <td>2018-02-26</td>\n",
       "      <td>1976</td>\n",
       "      <td>135</td>\n",
       "      <td>5</td>\n",
       "      <td>-77.0</td>\n",
       "      <td>728.0</td>\n",
       "    </tr>\n",
       "    <tr>\n",
       "      <th>1866</th>\n",
       "      <td>1895</td>\n",
       "      <td>2018-02-27</td>\n",
       "      <td>1977</td>\n",
       "      <td>135</td>\n",
       "      <td>5</td>\n",
       "      <td>-77.0</td>\n",
       "      <td>727.0</td>\n",
       "    </tr>\n",
       "  </tbody>\n",
       "</table>\n",
       "<p>1865 rows × 7 columns</p>\n",
       "</div>"
      ],
      "text/plain": [
       "        id terrestrial_date   sol   ls  month  min_temp  pressure\n",
       "2       24       2012-08-18    12  156      6     -76.0     741.0\n",
       "3       35       2012-08-19    13  157      6     -74.0     732.0\n",
       "4       46       2012-08-20    14  157      6     -74.0     740.0\n",
       "5       57       2012-08-21    15  158      6     -78.0     740.0\n",
       "6       68       2012-08-22    16  158      6     -77.0     740.0\n",
       "...    ...              ...   ...  ...    ...       ...       ...\n",
       "1862  1889       2018-02-23  1973  133      5     -78.0     730.0\n",
       "1863  1892       2018-02-24  1974  134      5     -77.0     729.0\n",
       "1864  1894       2018-02-25  1975  134      5     -76.0     729.0\n",
       "1865  1893       2018-02-26  1976  135      5     -77.0     728.0\n",
       "1866  1895       2018-02-27  1977  135      5     -77.0     727.0\n",
       "\n",
       "[1865 rows x 7 columns]"
      ]
     },
     "execution_count": 37,
     "metadata": {},
     "output_type": "execute_result"
    }
   ],
   "source": [
    "mars_df\n",
    "\n"
   ]
  },
  {
   "cell_type": "code",
   "execution_count": 91,
   "id": "a9ac7ed9",
   "metadata": {},
   "outputs": [
    {
     "data": {
      "text/plain": [
       "4     194\n",
       "3     192\n",
       "2     178\n",
       "1     174\n",
       "12    166\n",
       "5     149\n",
       "6     147\n",
       "7     142\n",
       "8     141\n",
       "11    138\n",
       "9     134\n",
       "10    112\n",
       "Name: month, dtype: int64"
      ]
     },
     "execution_count": 91,
     "metadata": {},
     "output_type": "execute_result"
    }
   ],
   "source": [
    "#Analyze your dataset by using Pandas functions to answer the following questions:\n",
    "\n",
    "#1. How many months exist on Mars?\n",
    "mars_df.month.value_counts()\n",
    "# Answer = 12"
   ]
  },
  {
   "cell_type": "code",
   "execution_count": 92,
   "id": "4f3c1063",
   "metadata": {},
   "outputs": [
    {
     "data": {
      "text/plain": [
       "1867"
      ]
     },
     "execution_count": 92,
     "metadata": {},
     "output_type": "execute_result"
    }
   ],
   "source": [
    "#2.  How many Martian (and not Earth) days worth of data exist in the scraped dataset?\n",
    "\n",
    "mars_df.month.count()\n",
    "# Anser = 1867"
   ]
  },
  {
   "cell_type": "code",
   "execution_count": 134,
   "id": "2a7b6ebf",
   "metadata": {},
   "outputs": [
    {
     "data": {
      "text/plain": [
       "(-77.16091954022988,\n",
       " -79.93258426966293,\n",
       " -83.30729166666667,\n",
       " -82.74742268041237,\n",
       " -79.30872483221476,\n",
       " -75.29931972789116,\n",
       " -72.28169014084507,\n",
       " -68.38297872340425,\n",
       " -69.17164179104478,\n",
       " -71.98214285714286,\n",
       " -71.98550724637681,\n",
       " -74.45180722891567)"
      ]
     },
     "execution_count": 134,
     "metadata": {},
     "output_type": "execute_result"
    }
   ],
   "source": [
    "#3. What are the coldest and the warmest months on Mars (at the location of Curiosity)? To answer this question:\n",
    "    # Find the average the minimum daily temperature for all of the months.\n",
    "month1 = mars_df.loc[mars_df[\"month\"] == 1, \"min_temp\"].mean()\n",
    "month1\n",
    "month2 = mars_df.loc[mars_df[\"month\"] == 2, \"min_temp\"].mean()\n",
    "month2\n",
    "month3 = mars_df.loc[mars_df[\"month\"] == 3, \"min_temp\"].mean()\n",
    "month3\n",
    "month4 = mars_df.loc[mars_df[\"month\"] == 4, \"min_temp\"].mean()\n",
    "month4\n",
    "month5 = mars_df.loc[mars_df[\"month\"] == 5, \"min_temp\"].mean()\n",
    "month5\n",
    "month6 = mars_df.loc[mars_df[\"month\"] == 6, \"min_temp\"].mean()\n",
    "month6\n",
    "month7 = mars_df.loc[mars_df[\"month\"] == 7, \"min_temp\"].mean()\n",
    "month7\n",
    "month8 = mars_df.loc[mars_df[\"month\"] == 8, \"min_temp\"].mean()\n",
    "month8\n",
    "month9 = mars_df.loc[mars_df[\"month\"] == 9, \"min_temp\"].mean()\n",
    "month9\n",
    "month10 = mars_df.loc[mars_df[\"month\"] == 10, \"min_temp\"].mean()\n",
    "month10\n",
    "month11 = mars_df.loc[mars_df[\"month\"] == 11, \"min_temp\"].mean()\n",
    "month11\n",
    "month12 = mars_df.loc[mars_df[\"month\"] == 12, \"min_temp\"].mean()\n",
    "month12\n",
    "minimum_daily_averages = (month1, month2, month3, month4, month5, month6, month7, month8, month9, month10, month11, month12)\n",
    "minimum_daily_averages\n"
   ]
  },
  {
   "cell_type": "code",
   "execution_count": 157,
   "id": "f782e271",
   "metadata": {},
   "outputs": [
    {
     "data": {
      "image/png": "[encoded data removed]",
      "text/plain": [
       "<Figure size 432x288 with 1 Axes>"
      ]
     },
     "metadata": {
      "needs_background": "light"
     },
     "output_type": "display_data"
    }
   ],
   "source": [
    "\n",
    "import matplotlib.pyplot as plt\n",
    "fig = plt.figure()\n",
    "ax = fig.add_axes([0,0,1,1])\n",
    "langs = ['m1', 'm2', 'm3', 'm4', 'm5', 'm6', 'm7', 'm8', 'm9','m10', 'm11', 'm12' ]\n",
    "students = [-77.16,-79.93,-83.30,-82.74,-79.30, -75.29, -72.28, -68.38, -69.17, -71.98, -71.98, -74.45]\n",
    "ax.bar(langs,students)\n",
    "plt.show()"
   ]
  },
  {
   "cell_type": "code",
   "execution_count": 158,
   "id": "20fff745",
   "metadata": {},
   "outputs": [],
   "source": [
    " #4 Identify the coldest and hottest months in Curiosity's location\n",
    "    #Month 6 is the coldest and month 3 is the warmest\n",
    "    "
   ]
  },
  {
   "cell_type": "code",
   "execution_count": 159,
   "id": "3f4090a5",
   "metadata": {},
   "outputs": [
    {
     "data": {
      "text/plain": [
       "(862.4885057471264,\n",
       " 889.4550561797753,\n",
       " 877.3229166666666,\n",
       " 806.3298969072165,\n",
       " 748.5570469798657,\n",
       " 745.0544217687075,\n",
       " 795.1056338028169,\n",
       " 873.8297872340426,\n",
       " 913.3059701492538,\n",
       " 887.3125,\n",
       " 857.0144927536232,\n",
       " 842.156626506024)"
      ]
     },
     "execution_count": 159,
     "metadata": {},
     "output_type": "execute_result"
    }
   ],
   "source": [
    "month1_p = mars_df.loc[mars_df[\"month\"] == 1, \"pressure\"].mean()\n",
    "month1_p\n",
    "month2_p = mars_df.loc[mars_df[\"month\"] == 2, \"pressure\"].mean()\n",
    "month2_p\n",
    "month3_p = mars_df.loc[mars_df[\"month\"] == 3, \"pressure\"].mean()\n",
    "month3_p\n",
    "month4_p = mars_df.loc[mars_df[\"month\"] == 4, \"pressure\"].mean()\n",
    "month4_p\n",
    "month5_p = mars_df.loc[mars_df[\"month\"] == 5, \"pressure\"].mean()\n",
    "month5_p\n",
    "month6_p = mars_df.loc[mars_df[\"month\"] == 6, \"pressure\"].mean()\n",
    "month6_p\n",
    "month7_p = mars_df.loc[mars_df[\"month\"] == 7, \"pressure\"].mean()\n",
    "month7_p\n",
    "month8_p = mars_df.loc[mars_df[\"month\"] == 8, \"pressure\"].mean()\n",
    "month8_p\n",
    "month9_p = mars_df.loc[mars_df[\"month\"] == 9, \"pressure\"].mean()\n",
    "month9_p\n",
    "month10_p = mars_df.loc[mars_df[\"month\"] == 10, \"pressure\"].mean()\n",
    "month10_p\n",
    "month11_p = mars_df.loc[mars_df[\"month\"] == 11, \"pressure\"].mean()\n",
    "month11_p\n",
    "month12_p = mars_df.loc[mars_df[\"month\"] == 12, \"pressure\"].mean()\n",
    "month12_p\n",
    "minimum_daily_averages = (month1_p, month2_p, month3_p, month4_p, month5_p, month6_p, month7_p, month8_p, month9_p, month10_p, month11_p, month12_p)\n",
    "minimum_daily_averages\n"
   ]
  },
  {
   "cell_type": "code",
   "execution_count": 162,
   "id": "b29e46a4",
   "metadata": {},
   "outputs": [
    {
     "data": {
      "image/png": "[encoded data removed]",
      "text/plain": [
       "<Figure size 432x288 with 1 Axes>"
      ]
     },
     "metadata": {
      "needs_background": "light"
     },
     "output_type": "display_data"
    }
   ],
   "source": [
    "import matplotlib.pyplot as plt\n",
    "fig = plt.figure()\n",
    "ax = fig.add_axes([0,0,1,1])\n",
    "langs = ['m1', 'm2', 'm3', 'm4', 'm5', 'm6', 'm7', 'm8', 'm9','m10', 'm11', 'm12' ]\n",
    "students = [862.28,889.45,877.32,806.32,748.55, 745.05, 795.10, 873.82, 913.30, 887.21, 857.01, 842.15]\n",
    "ax.bar(langs,students)\n",
    "plt.show()"
   ]
  },
  {
   "cell_type": "code",
   "execution_count": 163,
   "id": "cebbbd13",
   "metadata": {},
   "outputs": [],
   "source": [
    " # Identify the lowest and highest months in Curiosity's location\n",
    "    #Month 6 is the lowest and month 9 is the higest\n",
    "    "
   ]
  },
  {
   "cell_type": "code",
   "execution_count": 164,
   "id": "0699bde8",
   "metadata": {},
   "outputs": [],
   "source": [
    "# 5. How many terrestrial (earth) days are there in a Martian year?"
   ]
  },
  {
   "cell_type": "code",
   "execution_count": 166,
   "id": "dc1c2f78",
   "metadata": {},
   "outputs": [],
   "source": [
    "# Write the data to a CSV\n",
    "mars_df.to_csv('mars_data_challenge_part_2.csv')"
   ]
  },
  {
   "cell_type": "code",
   "execution_count": null,
   "id": "6387f3a1",
   "metadata": {},
   "outputs": [],
   "source": [
    "browser.quit() "
   ]
  }
 ],
 "metadata": {
  "kernelspec": {
   "display_name": "PythonData",
   "language": "python",
   "name": "pythondata"
  },
  "language_info": {
   "codemirror_mode": {
    "name": "ipython",
    "version": 3
   },
   "file_extension": ".py",
   "mimetype": "text/x-python",
   "name": "python",
   "nbconvert_exporter": "python",
   "pygments_lexer": "ipython3",
   "version": "3.9.12"
  }
 },
 "nbformat": 4,
 "nbformat_minor": 5
}
